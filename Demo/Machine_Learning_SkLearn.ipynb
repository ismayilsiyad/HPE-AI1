{
 "cells": [
  {
   "cell_type": "code",
   "execution_count": 1,
   "id": "23803050",
   "metadata": {},
   "outputs": [
    {
     "name": "stdout",
     "output_type": "stream",
     "text": [
      "Name: scikit-learn\n",
      "Version: 1.2.2\n",
      "Summary: A set of python modules for machine learning and data mining\n",
      "Home-page: http://scikit-learn.org\n",
      "Author: None\n",
      "Author-email: None\n",
      "License: new BSD\n",
      "Location: /home/ubuntu/environments/hpepyspark/lib/python3.8/site-packages\n",
      "Requires: scipy, joblib, numpy, threadpoolctl\n",
      "Required-by: shapash, shap, lightgbm, handyspark, category-encoders, alibi-detect\n",
      "Note: you may need to restart the kernel to use updated packages.\n"
     ]
    }
   ],
   "source": [
    "pip show scikit-learn"
   ]
  },
  {
   "cell_type": "code",
   "execution_count": 2,
   "id": "a283f465",
   "metadata": {},
   "outputs": [],
   "source": [
    "import pandas as pd"
   ]
  },
  {
   "cell_type": "code",
   "execution_count": 3,
   "id": "2d4f8f2c",
   "metadata": {},
   "outputs": [],
   "source": [
    "dia = pd.read_csv(\"https://raw.githubusercontent.com/ismayilsiyad/HPE-AI1/main/Datasets/diabetes.csv\")"
   ]
  },
  {
   "cell_type": "code",
   "execution_count": 4,
   "id": "3662ebcf",
   "metadata": {},
   "outputs": [
    {
     "data": {
      "text/html": [
       "<div>\n",
       "<style scoped>\n",
       "    .dataframe tbody tr th:only-of-type {\n",
       "        vertical-align: middle;\n",
       "    }\n",
       "\n",
       "    .dataframe tbody tr th {\n",
       "        vertical-align: top;\n",
       "    }\n",
       "\n",
       "    .dataframe thead th {\n",
       "        text-align: right;\n",
       "    }\n",
       "</style>\n",
       "<table border=\"1\" class=\"dataframe\">\n",
       "  <thead>\n",
       "    <tr style=\"text-align: right;\">\n",
       "      <th></th>\n",
       "      <th>PatientID</th>\n",
       "      <th>Pregnancies</th>\n",
       "      <th>PlasmaGlucose</th>\n",
       "      <th>DiastolicBloodPressure</th>\n",
       "      <th>TricepsThickness</th>\n",
       "      <th>SerumInsulin</th>\n",
       "      <th>BMI</th>\n",
       "      <th>DiabetesPedigree</th>\n",
       "      <th>Age</th>\n",
       "      <th>Diabetic</th>\n",
       "    </tr>\n",
       "  </thead>\n",
       "  <tbody>\n",
       "    <tr>\n",
       "      <th>0</th>\n",
       "      <td>1354778</td>\n",
       "      <td>0</td>\n",
       "      <td>171</td>\n",
       "      <td>80</td>\n",
       "      <td>34</td>\n",
       "      <td>23</td>\n",
       "      <td>43.509726</td>\n",
       "      <td>1.213191</td>\n",
       "      <td>21</td>\n",
       "      <td>0</td>\n",
       "    </tr>\n",
       "    <tr>\n",
       "      <th>1</th>\n",
       "      <td>1147438</td>\n",
       "      <td>8</td>\n",
       "      <td>92</td>\n",
       "      <td>93</td>\n",
       "      <td>47</td>\n",
       "      <td>36</td>\n",
       "      <td>21.240576</td>\n",
       "      <td>0.158365</td>\n",
       "      <td>23</td>\n",
       "      <td>0</td>\n",
       "    </tr>\n",
       "    <tr>\n",
       "      <th>2</th>\n",
       "      <td>1640031</td>\n",
       "      <td>7</td>\n",
       "      <td>115</td>\n",
       "      <td>47</td>\n",
       "      <td>52</td>\n",
       "      <td>35</td>\n",
       "      <td>41.511523</td>\n",
       "      <td>0.079019</td>\n",
       "      <td>23</td>\n",
       "      <td>0</td>\n",
       "    </tr>\n",
       "    <tr>\n",
       "      <th>3</th>\n",
       "      <td>1883350</td>\n",
       "      <td>9</td>\n",
       "      <td>103</td>\n",
       "      <td>78</td>\n",
       "      <td>25</td>\n",
       "      <td>304</td>\n",
       "      <td>29.582192</td>\n",
       "      <td>1.282870</td>\n",
       "      <td>43</td>\n",
       "      <td>1</td>\n",
       "    </tr>\n",
       "    <tr>\n",
       "      <th>4</th>\n",
       "      <td>1424119</td>\n",
       "      <td>1</td>\n",
       "      <td>85</td>\n",
       "      <td>59</td>\n",
       "      <td>27</td>\n",
       "      <td>35</td>\n",
       "      <td>42.604536</td>\n",
       "      <td>0.549542</td>\n",
       "      <td>22</td>\n",
       "      <td>0</td>\n",
       "    </tr>\n",
       "    <tr>\n",
       "      <th>...</th>\n",
       "      <td>...</td>\n",
       "      <td>...</td>\n",
       "      <td>...</td>\n",
       "      <td>...</td>\n",
       "      <td>...</td>\n",
       "      <td>...</td>\n",
       "      <td>...</td>\n",
       "      <td>...</td>\n",
       "      <td>...</td>\n",
       "      <td>...</td>\n",
       "    </tr>\n",
       "    <tr>\n",
       "      <th>14995</th>\n",
       "      <td>1490300</td>\n",
       "      <td>10</td>\n",
       "      <td>65</td>\n",
       "      <td>60</td>\n",
       "      <td>46</td>\n",
       "      <td>177</td>\n",
       "      <td>33.512468</td>\n",
       "      <td>0.148327</td>\n",
       "      <td>41</td>\n",
       "      <td>1</td>\n",
       "    </tr>\n",
       "    <tr>\n",
       "      <th>14996</th>\n",
       "      <td>1744410</td>\n",
       "      <td>2</td>\n",
       "      <td>73</td>\n",
       "      <td>66</td>\n",
       "      <td>27</td>\n",
       "      <td>168</td>\n",
       "      <td>30.132636</td>\n",
       "      <td>0.862252</td>\n",
       "      <td>38</td>\n",
       "      <td>1</td>\n",
       "    </tr>\n",
       "    <tr>\n",
       "      <th>14997</th>\n",
       "      <td>1742742</td>\n",
       "      <td>0</td>\n",
       "      <td>93</td>\n",
       "      <td>89</td>\n",
       "      <td>43</td>\n",
       "      <td>57</td>\n",
       "      <td>18.690683</td>\n",
       "      <td>0.427049</td>\n",
       "      <td>24</td>\n",
       "      <td>0</td>\n",
       "    </tr>\n",
       "    <tr>\n",
       "      <th>14998</th>\n",
       "      <td>1099353</td>\n",
       "      <td>0</td>\n",
       "      <td>132</td>\n",
       "      <td>98</td>\n",
       "      <td>18</td>\n",
       "      <td>161</td>\n",
       "      <td>19.791645</td>\n",
       "      <td>0.302257</td>\n",
       "      <td>23</td>\n",
       "      <td>0</td>\n",
       "    </tr>\n",
       "    <tr>\n",
       "      <th>14999</th>\n",
       "      <td>1386396</td>\n",
       "      <td>3</td>\n",
       "      <td>114</td>\n",
       "      <td>65</td>\n",
       "      <td>47</td>\n",
       "      <td>512</td>\n",
       "      <td>36.215437</td>\n",
       "      <td>0.147363</td>\n",
       "      <td>34</td>\n",
       "      <td>1</td>\n",
       "    </tr>\n",
       "  </tbody>\n",
       "</table>\n",
       "<p>15000 rows × 10 columns</p>\n",
       "</div>"
      ],
      "text/plain": [
       "       PatientID  Pregnancies  PlasmaGlucose  DiastolicBloodPressure  \\\n",
       "0        1354778            0            171                      80   \n",
       "1        1147438            8             92                      93   \n",
       "2        1640031            7            115                      47   \n",
       "3        1883350            9            103                      78   \n",
       "4        1424119            1             85                      59   \n",
       "...          ...          ...            ...                     ...   \n",
       "14995    1490300           10             65                      60   \n",
       "14996    1744410            2             73                      66   \n",
       "14997    1742742            0             93                      89   \n",
       "14998    1099353            0            132                      98   \n",
       "14999    1386396            3            114                      65   \n",
       "\n",
       "       TricepsThickness  SerumInsulin        BMI  DiabetesPedigree  Age  \\\n",
       "0                    34            23  43.509726          1.213191   21   \n",
       "1                    47            36  21.240576          0.158365   23   \n",
       "2                    52            35  41.511523          0.079019   23   \n",
       "3                    25           304  29.582192          1.282870   43   \n",
       "4                    27            35  42.604536          0.549542   22   \n",
       "...                 ...           ...        ...               ...  ...   \n",
       "14995                46           177  33.512468          0.148327   41   \n",
       "14996                27           168  30.132636          0.862252   38   \n",
       "14997                43            57  18.690683          0.427049   24   \n",
       "14998                18           161  19.791645          0.302257   23   \n",
       "14999                47           512  36.215437          0.147363   34   \n",
       "\n",
       "       Diabetic  \n",
       "0             0  \n",
       "1             0  \n",
       "2             0  \n",
       "3             1  \n",
       "4             0  \n",
       "...         ...  \n",
       "14995         1  \n",
       "14996         1  \n",
       "14997         0  \n",
       "14998         0  \n",
       "14999         1  \n",
       "\n",
       "[15000 rows x 10 columns]"
      ]
     },
     "execution_count": 4,
     "metadata": {},
     "output_type": "execute_result"
    }
   ],
   "source": [
    "dia"
   ]
  },
  {
   "cell_type": "code",
   "execution_count": 5,
   "id": "4d6e763e",
   "metadata": {},
   "outputs": [
    {
     "data": {
      "text/plain": [
       "PatientID                 0\n",
       "Pregnancies               0\n",
       "PlasmaGlucose             0\n",
       "DiastolicBloodPressure    0\n",
       "TricepsThickness          0\n",
       "SerumInsulin              0\n",
       "BMI                       0\n",
       "DiabetesPedigree          0\n",
       "Age                       0\n",
       "Diabetic                  0\n",
       "dtype: int64"
      ]
     },
     "execution_count": 5,
     "metadata": {},
     "output_type": "execute_result"
    }
   ],
   "source": [
    "dia.isnull().sum()"
   ]
  },
  {
   "cell_type": "code",
   "execution_count": 6,
   "id": "6069731f",
   "metadata": {},
   "outputs": [],
   "source": [
    "dia.drop(\"PatientID\", axis = 1, inplace=True)"
   ]
  },
  {
   "cell_type": "code",
   "execution_count": 7,
   "id": "26f47c51",
   "metadata": {},
   "outputs": [
    {
     "data": {
      "text/html": [
       "<div>\n",
       "<style scoped>\n",
       "    .dataframe tbody tr th:only-of-type {\n",
       "        vertical-align: middle;\n",
       "    }\n",
       "\n",
       "    .dataframe tbody tr th {\n",
       "        vertical-align: top;\n",
       "    }\n",
       "\n",
       "    .dataframe thead th {\n",
       "        text-align: right;\n",
       "    }\n",
       "</style>\n",
       "<table border=\"1\" class=\"dataframe\">\n",
       "  <thead>\n",
       "    <tr style=\"text-align: right;\">\n",
       "      <th></th>\n",
       "      <th>Pregnancies</th>\n",
       "      <th>PlasmaGlucose</th>\n",
       "      <th>DiastolicBloodPressure</th>\n",
       "      <th>TricepsThickness</th>\n",
       "      <th>SerumInsulin</th>\n",
       "      <th>BMI</th>\n",
       "      <th>DiabetesPedigree</th>\n",
       "      <th>Age</th>\n",
       "      <th>Diabetic</th>\n",
       "    </tr>\n",
       "  </thead>\n",
       "  <tbody>\n",
       "    <tr>\n",
       "      <th>0</th>\n",
       "      <td>0</td>\n",
       "      <td>171</td>\n",
       "      <td>80</td>\n",
       "      <td>34</td>\n",
       "      <td>23</td>\n",
       "      <td>43.509726</td>\n",
       "      <td>1.213191</td>\n",
       "      <td>21</td>\n",
       "      <td>0</td>\n",
       "    </tr>\n",
       "    <tr>\n",
       "      <th>1</th>\n",
       "      <td>8</td>\n",
       "      <td>92</td>\n",
       "      <td>93</td>\n",
       "      <td>47</td>\n",
       "      <td>36</td>\n",
       "      <td>21.240576</td>\n",
       "      <td>0.158365</td>\n",
       "      <td>23</td>\n",
       "      <td>0</td>\n",
       "    </tr>\n",
       "    <tr>\n",
       "      <th>2</th>\n",
       "      <td>7</td>\n",
       "      <td>115</td>\n",
       "      <td>47</td>\n",
       "      <td>52</td>\n",
       "      <td>35</td>\n",
       "      <td>41.511523</td>\n",
       "      <td>0.079019</td>\n",
       "      <td>23</td>\n",
       "      <td>0</td>\n",
       "    </tr>\n",
       "    <tr>\n",
       "      <th>3</th>\n",
       "      <td>9</td>\n",
       "      <td>103</td>\n",
       "      <td>78</td>\n",
       "      <td>25</td>\n",
       "      <td>304</td>\n",
       "      <td>29.582192</td>\n",
       "      <td>1.282870</td>\n",
       "      <td>43</td>\n",
       "      <td>1</td>\n",
       "    </tr>\n",
       "    <tr>\n",
       "      <th>4</th>\n",
       "      <td>1</td>\n",
       "      <td>85</td>\n",
       "      <td>59</td>\n",
       "      <td>27</td>\n",
       "      <td>35</td>\n",
       "      <td>42.604536</td>\n",
       "      <td>0.549542</td>\n",
       "      <td>22</td>\n",
       "      <td>0</td>\n",
       "    </tr>\n",
       "  </tbody>\n",
       "</table>\n",
       "</div>"
      ],
      "text/plain": [
       "   Pregnancies  PlasmaGlucose  DiastolicBloodPressure  TricepsThickness  \\\n",
       "0            0            171                      80                34   \n",
       "1            8             92                      93                47   \n",
       "2            7            115                      47                52   \n",
       "3            9            103                      78                25   \n",
       "4            1             85                      59                27   \n",
       "\n",
       "   SerumInsulin        BMI  DiabetesPedigree  Age  Diabetic  \n",
       "0            23  43.509726          1.213191   21         0  \n",
       "1            36  21.240576          0.158365   23         0  \n",
       "2            35  41.511523          0.079019   23         0  \n",
       "3           304  29.582192          1.282870   43         1  \n",
       "4            35  42.604536          0.549542   22         0  "
      ]
     },
     "execution_count": 7,
     "metadata": {},
     "output_type": "execute_result"
    }
   ],
   "source": [
    "dia.head()"
   ]
  },
  {
   "cell_type": "code",
   "execution_count": 8,
   "id": "3826e7f0",
   "metadata": {},
   "outputs": [],
   "source": [
    "y = dia[\"Diabetic\"]\n",
    "X = dia.drop(\"Diabetic\", axis = 1)"
   ]
  },
  {
   "cell_type": "code",
   "execution_count": 10,
   "id": "34a0c495",
   "metadata": {},
   "outputs": [
    {
     "data": {
      "text/html": [
       "<div>\n",
       "<style scoped>\n",
       "    .dataframe tbody tr th:only-of-type {\n",
       "        vertical-align: middle;\n",
       "    }\n",
       "\n",
       "    .dataframe tbody tr th {\n",
       "        vertical-align: top;\n",
       "    }\n",
       "\n",
       "    .dataframe thead th {\n",
       "        text-align: right;\n",
       "    }\n",
       "</style>\n",
       "<table border=\"1\" class=\"dataframe\">\n",
       "  <thead>\n",
       "    <tr style=\"text-align: right;\">\n",
       "      <th></th>\n",
       "      <th>Pregnancies</th>\n",
       "      <th>PlasmaGlucose</th>\n",
       "      <th>DiastolicBloodPressure</th>\n",
       "      <th>TricepsThickness</th>\n",
       "      <th>SerumInsulin</th>\n",
       "      <th>BMI</th>\n",
       "      <th>DiabetesPedigree</th>\n",
       "      <th>Age</th>\n",
       "    </tr>\n",
       "  </thead>\n",
       "  <tbody>\n",
       "    <tr>\n",
       "      <th>0</th>\n",
       "      <td>0</td>\n",
       "      <td>171</td>\n",
       "      <td>80</td>\n",
       "      <td>34</td>\n",
       "      <td>23</td>\n",
       "      <td>43.509726</td>\n",
       "      <td>1.213191</td>\n",
       "      <td>21</td>\n",
       "    </tr>\n",
       "    <tr>\n",
       "      <th>1</th>\n",
       "      <td>8</td>\n",
       "      <td>92</td>\n",
       "      <td>93</td>\n",
       "      <td>47</td>\n",
       "      <td>36</td>\n",
       "      <td>21.240576</td>\n",
       "      <td>0.158365</td>\n",
       "      <td>23</td>\n",
       "    </tr>\n",
       "    <tr>\n",
       "      <th>2</th>\n",
       "      <td>7</td>\n",
       "      <td>115</td>\n",
       "      <td>47</td>\n",
       "      <td>52</td>\n",
       "      <td>35</td>\n",
       "      <td>41.511523</td>\n",
       "      <td>0.079019</td>\n",
       "      <td>23</td>\n",
       "    </tr>\n",
       "    <tr>\n",
       "      <th>3</th>\n",
       "      <td>9</td>\n",
       "      <td>103</td>\n",
       "      <td>78</td>\n",
       "      <td>25</td>\n",
       "      <td>304</td>\n",
       "      <td>29.582192</td>\n",
       "      <td>1.282870</td>\n",
       "      <td>43</td>\n",
       "    </tr>\n",
       "    <tr>\n",
       "      <th>4</th>\n",
       "      <td>1</td>\n",
       "      <td>85</td>\n",
       "      <td>59</td>\n",
       "      <td>27</td>\n",
       "      <td>35</td>\n",
       "      <td>42.604536</td>\n",
       "      <td>0.549542</td>\n",
       "      <td>22</td>\n",
       "    </tr>\n",
       "    <tr>\n",
       "      <th>...</th>\n",
       "      <td>...</td>\n",
       "      <td>...</td>\n",
       "      <td>...</td>\n",
       "      <td>...</td>\n",
       "      <td>...</td>\n",
       "      <td>...</td>\n",
       "      <td>...</td>\n",
       "      <td>...</td>\n",
       "    </tr>\n",
       "    <tr>\n",
       "      <th>14995</th>\n",
       "      <td>10</td>\n",
       "      <td>65</td>\n",
       "      <td>60</td>\n",
       "      <td>46</td>\n",
       "      <td>177</td>\n",
       "      <td>33.512468</td>\n",
       "      <td>0.148327</td>\n",
       "      <td>41</td>\n",
       "    </tr>\n",
       "    <tr>\n",
       "      <th>14996</th>\n",
       "      <td>2</td>\n",
       "      <td>73</td>\n",
       "      <td>66</td>\n",
       "      <td>27</td>\n",
       "      <td>168</td>\n",
       "      <td>30.132636</td>\n",
       "      <td>0.862252</td>\n",
       "      <td>38</td>\n",
       "    </tr>\n",
       "    <tr>\n",
       "      <th>14997</th>\n",
       "      <td>0</td>\n",
       "      <td>93</td>\n",
       "      <td>89</td>\n",
       "      <td>43</td>\n",
       "      <td>57</td>\n",
       "      <td>18.690683</td>\n",
       "      <td>0.427049</td>\n",
       "      <td>24</td>\n",
       "    </tr>\n",
       "    <tr>\n",
       "      <th>14998</th>\n",
       "      <td>0</td>\n",
       "      <td>132</td>\n",
       "      <td>98</td>\n",
       "      <td>18</td>\n",
       "      <td>161</td>\n",
       "      <td>19.791645</td>\n",
       "      <td>0.302257</td>\n",
       "      <td>23</td>\n",
       "    </tr>\n",
       "    <tr>\n",
       "      <th>14999</th>\n",
       "      <td>3</td>\n",
       "      <td>114</td>\n",
       "      <td>65</td>\n",
       "      <td>47</td>\n",
       "      <td>512</td>\n",
       "      <td>36.215437</td>\n",
       "      <td>0.147363</td>\n",
       "      <td>34</td>\n",
       "    </tr>\n",
       "  </tbody>\n",
       "</table>\n",
       "<p>15000 rows × 8 columns</p>\n",
       "</div>"
      ],
      "text/plain": [
       "       Pregnancies  PlasmaGlucose  DiastolicBloodPressure  TricepsThickness  \\\n",
       "0                0            171                      80                34   \n",
       "1                8             92                      93                47   \n",
       "2                7            115                      47                52   \n",
       "3                9            103                      78                25   \n",
       "4                1             85                      59                27   \n",
       "...            ...            ...                     ...               ...   \n",
       "14995           10             65                      60                46   \n",
       "14996            2             73                      66                27   \n",
       "14997            0             93                      89                43   \n",
       "14998            0            132                      98                18   \n",
       "14999            3            114                      65                47   \n",
       "\n",
       "       SerumInsulin        BMI  DiabetesPedigree  Age  \n",
       "0                23  43.509726          1.213191   21  \n",
       "1                36  21.240576          0.158365   23  \n",
       "2                35  41.511523          0.079019   23  \n",
       "3               304  29.582192          1.282870   43  \n",
       "4                35  42.604536          0.549542   22  \n",
       "...             ...        ...               ...  ...  \n",
       "14995           177  33.512468          0.148327   41  \n",
       "14996           168  30.132636          0.862252   38  \n",
       "14997            57  18.690683          0.427049   24  \n",
       "14998           161  19.791645          0.302257   23  \n",
       "14999           512  36.215437          0.147363   34  \n",
       "\n",
       "[15000 rows x 8 columns]"
      ]
     },
     "execution_count": 10,
     "metadata": {},
     "output_type": "execute_result"
    }
   ],
   "source": [
    "X"
   ]
  },
  {
   "cell_type": "code",
   "execution_count": 9,
   "id": "f4bd97e1",
   "metadata": {},
   "outputs": [],
   "source": [
    "from sklearn.preprocessing import MinMaxScaler"
   ]
  },
  {
   "cell_type": "code",
   "execution_count": 11,
   "id": "2966ae23",
   "metadata": {},
   "outputs": [],
   "source": [
    "for col in X:\n",
    "    mm = MinMaxScaler()\n",
    "    X[col] = mm.fit_transform(X[[col]])"
   ]
  },
  {
   "cell_type": "code",
   "execution_count": 12,
   "id": "3feb888a",
   "metadata": {},
   "outputs": [
    {
     "data": {
      "text/html": [
       "<div>\n",
       "<style scoped>\n",
       "    .dataframe tbody tr th:only-of-type {\n",
       "        vertical-align: middle;\n",
       "    }\n",
       "\n",
       "    .dataframe tbody tr th {\n",
       "        vertical-align: top;\n",
       "    }\n",
       "\n",
       "    .dataframe thead th {\n",
       "        text-align: right;\n",
       "    }\n",
       "</style>\n",
       "<table border=\"1\" class=\"dataframe\">\n",
       "  <thead>\n",
       "    <tr style=\"text-align: right;\">\n",
       "      <th></th>\n",
       "      <th>Pregnancies</th>\n",
       "      <th>PlasmaGlucose</th>\n",
       "      <th>DiastolicBloodPressure</th>\n",
       "      <th>TricepsThickness</th>\n",
       "      <th>SerumInsulin</th>\n",
       "      <th>BMI</th>\n",
       "      <th>DiabetesPedigree</th>\n",
       "      <th>Age</th>\n",
       "    </tr>\n",
       "  </thead>\n",
       "  <tbody>\n",
       "    <tr>\n",
       "      <th>0</th>\n",
       "      <td>0.000000</td>\n",
       "      <td>0.858108</td>\n",
       "      <td>0.602151</td>\n",
       "      <td>0.313953</td>\n",
       "      <td>0.011465</td>\n",
       "      <td>0.668952</td>\n",
       "      <td>0.510511</td>\n",
       "      <td>0.000000</td>\n",
       "    </tr>\n",
       "    <tr>\n",
       "      <th>1</th>\n",
       "      <td>0.571429</td>\n",
       "      <td>0.324324</td>\n",
       "      <td>0.741935</td>\n",
       "      <td>0.465116</td>\n",
       "      <td>0.028025</td>\n",
       "      <td>0.080352</td>\n",
       "      <td>0.036123</td>\n",
       "      <td>0.035714</td>\n",
       "    </tr>\n",
       "    <tr>\n",
       "      <th>2</th>\n",
       "      <td>0.500000</td>\n",
       "      <td>0.479730</td>\n",
       "      <td>0.247312</td>\n",
       "      <td>0.523256</td>\n",
       "      <td>0.026752</td>\n",
       "      <td>0.616137</td>\n",
       "      <td>0.000438</td>\n",
       "      <td>0.035714</td>\n",
       "    </tr>\n",
       "    <tr>\n",
       "      <th>3</th>\n",
       "      <td>0.642857</td>\n",
       "      <td>0.398649</td>\n",
       "      <td>0.580645</td>\n",
       "      <td>0.209302</td>\n",
       "      <td>0.369427</td>\n",
       "      <td>0.300831</td>\n",
       "      <td>0.541848</td>\n",
       "      <td>0.392857</td>\n",
       "    </tr>\n",
       "    <tr>\n",
       "      <th>4</th>\n",
       "      <td>0.071429</td>\n",
       "      <td>0.277027</td>\n",
       "      <td>0.376344</td>\n",
       "      <td>0.232558</td>\n",
       "      <td>0.026752</td>\n",
       "      <td>0.645027</td>\n",
       "      <td>0.212047</td>\n",
       "      <td>0.017857</td>\n",
       "    </tr>\n",
       "    <tr>\n",
       "      <th>...</th>\n",
       "      <td>...</td>\n",
       "      <td>...</td>\n",
       "      <td>...</td>\n",
       "      <td>...</td>\n",
       "      <td>...</td>\n",
       "      <td>...</td>\n",
       "      <td>...</td>\n",
       "      <td>...</td>\n",
       "    </tr>\n",
       "    <tr>\n",
       "      <th>14995</th>\n",
       "      <td>0.714286</td>\n",
       "      <td>0.141892</td>\n",
       "      <td>0.387097</td>\n",
       "      <td>0.453488</td>\n",
       "      <td>0.207643</td>\n",
       "      <td>0.404713</td>\n",
       "      <td>0.031608</td>\n",
       "      <td>0.357143</td>\n",
       "    </tr>\n",
       "    <tr>\n",
       "      <th>14996</th>\n",
       "      <td>0.142857</td>\n",
       "      <td>0.195946</td>\n",
       "      <td>0.451613</td>\n",
       "      <td>0.232558</td>\n",
       "      <td>0.196178</td>\n",
       "      <td>0.315380</td>\n",
       "      <td>0.352683</td>\n",
       "      <td>0.303571</td>\n",
       "    </tr>\n",
       "    <tr>\n",
       "      <th>14997</th>\n",
       "      <td>0.000000</td>\n",
       "      <td>0.331081</td>\n",
       "      <td>0.698925</td>\n",
       "      <td>0.418605</td>\n",
       "      <td>0.054777</td>\n",
       "      <td>0.012956</td>\n",
       "      <td>0.156959</td>\n",
       "      <td>0.053571</td>\n",
       "    </tr>\n",
       "    <tr>\n",
       "      <th>14998</th>\n",
       "      <td>0.000000</td>\n",
       "      <td>0.594595</td>\n",
       "      <td>0.795699</td>\n",
       "      <td>0.127907</td>\n",
       "      <td>0.187261</td>\n",
       "      <td>0.042056</td>\n",
       "      <td>0.100836</td>\n",
       "      <td>0.035714</td>\n",
       "    </tr>\n",
       "    <tr>\n",
       "      <th>14999</th>\n",
       "      <td>0.214286</td>\n",
       "      <td>0.472973</td>\n",
       "      <td>0.440860</td>\n",
       "      <td>0.465116</td>\n",
       "      <td>0.634395</td>\n",
       "      <td>0.476156</td>\n",
       "      <td>0.031175</td>\n",
       "      <td>0.232143</td>\n",
       "    </tr>\n",
       "  </tbody>\n",
       "</table>\n",
       "<p>15000 rows × 8 columns</p>\n",
       "</div>"
      ],
      "text/plain": [
       "       Pregnancies  PlasmaGlucose  DiastolicBloodPressure  TricepsThickness  \\\n",
       "0         0.000000       0.858108                0.602151          0.313953   \n",
       "1         0.571429       0.324324                0.741935          0.465116   \n",
       "2         0.500000       0.479730                0.247312          0.523256   \n",
       "3         0.642857       0.398649                0.580645          0.209302   \n",
       "4         0.071429       0.277027                0.376344          0.232558   \n",
       "...            ...            ...                     ...               ...   \n",
       "14995     0.714286       0.141892                0.387097          0.453488   \n",
       "14996     0.142857       0.195946                0.451613          0.232558   \n",
       "14997     0.000000       0.331081                0.698925          0.418605   \n",
       "14998     0.000000       0.594595                0.795699          0.127907   \n",
       "14999     0.214286       0.472973                0.440860          0.465116   \n",
       "\n",
       "       SerumInsulin       BMI  DiabetesPedigree       Age  \n",
       "0          0.011465  0.668952          0.510511  0.000000  \n",
       "1          0.028025  0.080352          0.036123  0.035714  \n",
       "2          0.026752  0.616137          0.000438  0.035714  \n",
       "3          0.369427  0.300831          0.541848  0.392857  \n",
       "4          0.026752  0.645027          0.212047  0.017857  \n",
       "...             ...       ...               ...       ...  \n",
       "14995      0.207643  0.404713          0.031608  0.357143  \n",
       "14996      0.196178  0.315380          0.352683  0.303571  \n",
       "14997      0.054777  0.012956          0.156959  0.053571  \n",
       "14998      0.187261  0.042056          0.100836  0.035714  \n",
       "14999      0.634395  0.476156          0.031175  0.232143  \n",
       "\n",
       "[15000 rows x 8 columns]"
      ]
     },
     "execution_count": 12,
     "metadata": {},
     "output_type": "execute_result"
    }
   ],
   "source": [
    "X"
   ]
  },
  {
   "cell_type": "code",
   "execution_count": 13,
   "id": "7e7caf05",
   "metadata": {},
   "outputs": [],
   "source": [
    "from sklearn.model_selection import train_test_split\n",
    "\n",
    "X_train, X_test, y_train, y_test = train_test_split(X,y,test_size=0.3,random_state=123)"
   ]
  },
  {
   "cell_type": "code",
   "execution_count": 16,
   "id": "656ed72a",
   "metadata": {},
   "outputs": [
    {
     "data": {
      "text/plain": [
       "6958     1\n",
       "7534     0\n",
       "2975     1\n",
       "3903     0\n",
       "8437     0\n",
       "        ..\n",
       "8001     0\n",
       "11631    0\n",
       "8163     0\n",
       "4063     0\n",
       "2180     0\n",
       "Name: Diabetic, Length: 4500, dtype: int64"
      ]
     },
     "execution_count": 16,
     "metadata": {},
     "output_type": "execute_result"
    }
   ],
   "source": [
    "y_test"
   ]
  },
  {
   "cell_type": "code",
   "execution_count": 22,
   "id": "617f33d2",
   "metadata": {},
   "outputs": [],
   "source": [
    "from sklearn.linear_model import LogisticRegression\n",
    "\n",
    "lmodel = LogisticRegression()"
   ]
  },
  {
   "cell_type": "code",
   "execution_count": 21,
   "id": "66658442",
   "metadata": {},
   "outputs": [
    {
     "data": {
      "text/html": [
       "<div>\n",
       "<style scoped>\n",
       "    .dataframe tbody tr th:only-of-type {\n",
       "        vertical-align: middle;\n",
       "    }\n",
       "\n",
       "    .dataframe tbody tr th {\n",
       "        vertical-align: top;\n",
       "    }\n",
       "\n",
       "    .dataframe thead th {\n",
       "        text-align: right;\n",
       "    }\n",
       "</style>\n",
       "<table border=\"1\" class=\"dataframe\">\n",
       "  <thead>\n",
       "    <tr style=\"text-align: right;\">\n",
       "      <th></th>\n",
       "      <th>Pregnancies</th>\n",
       "      <th>PlasmaGlucose</th>\n",
       "      <th>DiastolicBloodPressure</th>\n",
       "      <th>TricepsThickness</th>\n",
       "      <th>SerumInsulin</th>\n",
       "      <th>BMI</th>\n",
       "      <th>DiabetesPedigree</th>\n",
       "      <th>Age</th>\n",
       "    </tr>\n",
       "  </thead>\n",
       "  <tbody>\n",
       "    <tr>\n",
       "      <th>5242</th>\n",
       "      <td>0.357143</td>\n",
       "      <td>0.371622</td>\n",
       "      <td>0.440860</td>\n",
       "      <td>0.267442</td>\n",
       "      <td>0.094268</td>\n",
       "      <td>0.475776</td>\n",
       "      <td>0.727108</td>\n",
       "      <td>0.303571</td>\n",
       "    </tr>\n",
       "    <tr>\n",
       "      <th>12675</th>\n",
       "      <td>0.142857</td>\n",
       "      <td>0.527027</td>\n",
       "      <td>0.860215</td>\n",
       "      <td>0.441860</td>\n",
       "      <td>0.024204</td>\n",
       "      <td>0.014693</td>\n",
       "      <td>0.002856</td>\n",
       "      <td>0.053571</td>\n",
       "    </tr>\n",
       "    <tr>\n",
       "      <th>6924</th>\n",
       "      <td>0.071429</td>\n",
       "      <td>0.290541</td>\n",
       "      <td>0.279570</td>\n",
       "      <td>0.313953</td>\n",
       "      <td>0.035669</td>\n",
       "      <td>0.015235</td>\n",
       "      <td>0.385402</td>\n",
       "      <td>0.017857</td>\n",
       "    </tr>\n",
       "    <tr>\n",
       "      <th>12596</th>\n",
       "      <td>0.642857</td>\n",
       "      <td>0.317568</td>\n",
       "      <td>0.215054</td>\n",
       "      <td>0.255814</td>\n",
       "      <td>0.198726</td>\n",
       "      <td>0.370881</td>\n",
       "      <td>0.037186</td>\n",
       "      <td>0.446429</td>\n",
       "    </tr>\n",
       "    <tr>\n",
       "      <th>12569</th>\n",
       "      <td>0.071429</td>\n",
       "      <td>0.716216</td>\n",
       "      <td>0.397849</td>\n",
       "      <td>0.395349</td>\n",
       "      <td>0.045860</td>\n",
       "      <td>0.377402</td>\n",
       "      <td>0.023832</td>\n",
       "      <td>0.017857</td>\n",
       "    </tr>\n",
       "    <tr>\n",
       "      <th>...</th>\n",
       "      <td>...</td>\n",
       "      <td>...</td>\n",
       "      <td>...</td>\n",
       "      <td>...</td>\n",
       "      <td>...</td>\n",
       "      <td>...</td>\n",
       "      <td>...</td>\n",
       "      <td>...</td>\n",
       "    </tr>\n",
       "    <tr>\n",
       "      <th>5218</th>\n",
       "      <td>0.071429</td>\n",
       "      <td>0.358108</td>\n",
       "      <td>0.354839</td>\n",
       "      <td>0.337209</td>\n",
       "      <td>0.017834</td>\n",
       "      <td>0.631615</td>\n",
       "      <td>0.331919</td>\n",
       "      <td>0.035714</td>\n",
       "    </tr>\n",
       "    <tr>\n",
       "      <th>12252</th>\n",
       "      <td>0.000000</td>\n",
       "      <td>0.270270</td>\n",
       "      <td>0.215054</td>\n",
       "      <td>0.441860</td>\n",
       "      <td>0.030573</td>\n",
       "      <td>0.658900</td>\n",
       "      <td>0.002269</td>\n",
       "      <td>0.232143</td>\n",
       "    </tr>\n",
       "    <tr>\n",
       "      <th>1346</th>\n",
       "      <td>0.071429</td>\n",
       "      <td>0.243243</td>\n",
       "      <td>0.591398</td>\n",
       "      <td>0.023256</td>\n",
       "      <td>0.042038</td>\n",
       "      <td>0.094925</td>\n",
       "      <td>0.420795</td>\n",
       "      <td>0.053571</td>\n",
       "    </tr>\n",
       "    <tr>\n",
       "      <th>11646</th>\n",
       "      <td>0.000000</td>\n",
       "      <td>0.844595</td>\n",
       "      <td>0.344086</td>\n",
       "      <td>0.034884</td>\n",
       "      <td>0.029299</td>\n",
       "      <td>0.608408</td>\n",
       "      <td>0.198198</td>\n",
       "      <td>0.017857</td>\n",
       "    </tr>\n",
       "    <tr>\n",
       "      <th>3582</th>\n",
       "      <td>0.500000</td>\n",
       "      <td>0.520270</td>\n",
       "      <td>0.311828</td>\n",
       "      <td>0.325581</td>\n",
       "      <td>0.379618</td>\n",
       "      <td>0.042934</td>\n",
       "      <td>0.016499</td>\n",
       "      <td>0.000000</td>\n",
       "    </tr>\n",
       "  </tbody>\n",
       "</table>\n",
       "<p>10500 rows × 8 columns</p>\n",
       "</div>"
      ],
      "text/plain": [
       "       Pregnancies  PlasmaGlucose  DiastolicBloodPressure  TricepsThickness  \\\n",
       "5242      0.357143       0.371622                0.440860          0.267442   \n",
       "12675     0.142857       0.527027                0.860215          0.441860   \n",
       "6924      0.071429       0.290541                0.279570          0.313953   \n",
       "12596     0.642857       0.317568                0.215054          0.255814   \n",
       "12569     0.071429       0.716216                0.397849          0.395349   \n",
       "...            ...            ...                     ...               ...   \n",
       "5218      0.071429       0.358108                0.354839          0.337209   \n",
       "12252     0.000000       0.270270                0.215054          0.441860   \n",
       "1346      0.071429       0.243243                0.591398          0.023256   \n",
       "11646     0.000000       0.844595                0.344086          0.034884   \n",
       "3582      0.500000       0.520270                0.311828          0.325581   \n",
       "\n",
       "       SerumInsulin       BMI  DiabetesPedigree       Age  \n",
       "5242       0.094268  0.475776          0.727108  0.303571  \n",
       "12675      0.024204  0.014693          0.002856  0.053571  \n",
       "6924       0.035669  0.015235          0.385402  0.017857  \n",
       "12596      0.198726  0.370881          0.037186  0.446429  \n",
       "12569      0.045860  0.377402          0.023832  0.017857  \n",
       "...             ...       ...               ...       ...  \n",
       "5218       0.017834  0.631615          0.331919  0.035714  \n",
       "12252      0.030573  0.658900          0.002269  0.232143  \n",
       "1346       0.042038  0.094925          0.420795  0.053571  \n",
       "11646      0.029299  0.608408          0.198198  0.017857  \n",
       "3582       0.379618  0.042934          0.016499  0.000000  \n",
       "\n",
       "[10500 rows x 8 columns]"
      ]
     },
     "execution_count": 21,
     "metadata": {},
     "output_type": "execute_result"
    }
   ],
   "source": [
    "X_train"
   ]
  },
  {
   "cell_type": "code",
   "execution_count": 23,
   "id": "3960eec5",
   "metadata": {},
   "outputs": [],
   "source": [
    "model = lmodel.fit(X_train,y_train)"
   ]
  },
  {
   "cell_type": "code",
   "execution_count": 24,
   "id": "db9ffae6",
   "metadata": {},
   "outputs": [],
   "source": [
    "y_pred = model.predict(X_test)"
   ]
  },
  {
   "cell_type": "code",
   "execution_count": 25,
   "id": "d1d9d537",
   "metadata": {},
   "outputs": [
    {
     "data": {
      "text/plain": [
       "array([0, 0, 1, ..., 0, 0, 0])"
      ]
     },
     "execution_count": 25,
     "metadata": {},
     "output_type": "execute_result"
    }
   ],
   "source": [
    "y_pred"
   ]
  },
  {
   "cell_type": "code",
   "execution_count": 27,
   "id": "cbc96eab",
   "metadata": {},
   "outputs": [],
   "source": [
    "from sklearn.metrics import accuracy_score, recall_score, precision_score, confusion_matrix, roc_curve"
   ]
  },
  {
   "cell_type": "code",
   "execution_count": 28,
   "id": "936804dd",
   "metadata": {},
   "outputs": [
    {
     "data": {
      "text/plain": [
       "0.7784444444444445"
      ]
     },
     "execution_count": 28,
     "metadata": {},
     "output_type": "execute_result"
    }
   ],
   "source": [
    "accuracy_score(y_test, y_pred)"
   ]
  },
  {
   "cell_type": "code",
   "execution_count": 29,
   "id": "fe0ea066",
   "metadata": {},
   "outputs": [
    {
     "data": {
      "text/plain": [
       "0.589452603471295"
      ]
     },
     "execution_count": 29,
     "metadata": {},
     "output_type": "execute_result"
    }
   ],
   "source": [
    "recall_score(y_test, y_pred)"
   ]
  },
  {
   "cell_type": "code",
   "execution_count": 30,
   "id": "9db5eae9",
   "metadata": {},
   "outputs": [
    {
     "data": {
      "text/plain": [
       "0.6980237154150197"
      ]
     },
     "execution_count": 30,
     "metadata": {},
     "output_type": "execute_result"
    }
   ],
   "source": [
    "precision_score(y_test, y_pred)"
   ]
  },
  {
   "cell_type": "code",
   "execution_count": 31,
   "id": "3754b409",
   "metadata": {},
   "outputs": [
    {
     "data": {
      "text/plain": [
       "array([[2620,  382],\n",
       "       [ 615,  883]])"
      ]
     },
     "execution_count": 31,
     "metadata": {},
     "output_type": "execute_result"
    }
   ],
   "source": [
    "confusion_matrix(y_test, y_pred)"
   ]
  },
  {
   "cell_type": "code",
   "execution_count": 36,
   "id": "d2861b2b",
   "metadata": {},
   "outputs": [],
   "source": [
    "fpr, tpr, thresholds = roc_curve(y_test, y_pred)"
   ]
  },
  {
   "cell_type": "code",
   "execution_count": 37,
   "id": "f8f0f7f3",
   "metadata": {},
   "outputs": [
    {
     "data": {
      "text/plain": [
       "array([0.       , 0.1272485, 1.       ])"
      ]
     },
     "execution_count": 37,
     "metadata": {},
     "output_type": "execute_result"
    }
   ],
   "source": [
    "fpr"
   ]
  },
  {
   "cell_type": "code",
   "execution_count": 38,
   "id": "dd7ed958",
   "metadata": {},
   "outputs": [
    {
     "data": {
      "text/plain": [
       "array([0.       , 0.5894526, 1.       ])"
      ]
     },
     "execution_count": 38,
     "metadata": {},
     "output_type": "execute_result"
    }
   ],
   "source": [
    "tpr"
   ]
  },
  {
   "cell_type": "code",
   "execution_count": 39,
   "id": "6fe2f3b7",
   "metadata": {},
   "outputs": [],
   "source": [
    "from sklearn.metrics import roc_auc_score"
   ]
  },
  {
   "cell_type": "code",
   "execution_count": null,
   "id": "40ff5d9d",
   "metadata": {},
   "outputs": [],
   "source": []
  },
  {
   "cell_type": "code",
   "execution_count": 40,
   "id": "247fa585",
   "metadata": {},
   "outputs": [
    {
     "data": {
      "text/plain": [
       "0.7311020512359806"
      ]
     },
     "execution_count": 40,
     "metadata": {},
     "output_type": "execute_result"
    }
   ],
   "source": [
    "roc_auc_score(y_test, y_pred)"
   ]
  },
  {
   "cell_type": "code",
   "execution_count": 41,
   "id": "2d784306",
   "metadata": {},
   "outputs": [],
   "source": [
    "from sklearn.tree import DecisionTreeClassifier"
   ]
  },
  {
   "cell_type": "code",
   "execution_count": 42,
   "id": "8658ee18",
   "metadata": {},
   "outputs": [],
   "source": [
    "dt = DecisionTreeClassifier()"
   ]
  },
  {
   "cell_type": "code",
   "execution_count": 44,
   "id": "cda789c4",
   "metadata": {},
   "outputs": [],
   "source": [
    "dt_model = dt.fit(X_train, y_train)"
   ]
  },
  {
   "cell_type": "code",
   "execution_count": 45,
   "id": "4bea5bb6",
   "metadata": {},
   "outputs": [],
   "source": [
    "y_preddt = dt_model.predict(X_test)"
   ]
  },
  {
   "cell_type": "code",
   "execution_count": 46,
   "id": "593488bf",
   "metadata": {},
   "outputs": [
    {
     "data": {
      "text/plain": [
       "0.8944444444444445"
      ]
     },
     "execution_count": 46,
     "metadata": {},
     "output_type": "execute_result"
    }
   ],
   "source": [
    "accuracy_score(y_test, y_preddt)"
   ]
  },
  {
   "cell_type": "code",
   "execution_count": 47,
   "id": "1d3d2d3a",
   "metadata": {},
   "outputs": [
    {
     "data": {
      "text/plain": [
       "0.8457943925233645"
      ]
     },
     "execution_count": 47,
     "metadata": {},
     "output_type": "execute_result"
    }
   ],
   "source": [
    "recall_score(y_test, y_preddt)"
   ]
  },
  {
   "cell_type": "code",
   "execution_count": 48,
   "id": "4e0a1cb8",
   "metadata": {},
   "outputs": [
    {
     "data": {
      "text/plain": [
       "0.8385175380542687"
      ]
     },
     "execution_count": 48,
     "metadata": {},
     "output_type": "execute_result"
    }
   ],
   "source": [
    "precision_score(y_test, y_preddt)"
   ]
  },
  {
   "cell_type": "code",
   "execution_count": 49,
   "id": "16a2383f",
   "metadata": {},
   "outputs": [
    {
     "data": {
      "text/plain": [
       "0.882257622644094"
      ]
     },
     "execution_count": 49,
     "metadata": {},
     "output_type": "execute_result"
    }
   ],
   "source": [
    "roc_auc_score(y_test, y_preddt)"
   ]
  },
  {
   "cell_type": "markdown",
   "id": "fa56ce67",
   "metadata": {},
   "source": [
    "Regression"
   ]
  },
  {
   "cell_type": "code",
   "execution_count": 50,
   "id": "337ea335",
   "metadata": {},
   "outputs": [
    {
     "data": {
      "text/html": [
       "<div>\n",
       "<style scoped>\n",
       "    .dataframe tbody tr th:only-of-type {\n",
       "        vertical-align: middle;\n",
       "    }\n",
       "\n",
       "    .dataframe tbody tr th {\n",
       "        vertical-align: top;\n",
       "    }\n",
       "\n",
       "    .dataframe thead th {\n",
       "        text-align: right;\n",
       "    }\n",
       "</style>\n",
       "<table border=\"1\" class=\"dataframe\">\n",
       "  <thead>\n",
       "    <tr style=\"text-align: right;\">\n",
       "      <th></th>\n",
       "      <th>Pregnancies</th>\n",
       "      <th>PlasmaGlucose</th>\n",
       "      <th>DiastolicBloodPressure</th>\n",
       "      <th>TricepsThickness</th>\n",
       "      <th>SerumInsulin</th>\n",
       "      <th>BMI</th>\n",
       "      <th>DiabetesPedigree</th>\n",
       "      <th>Age</th>\n",
       "    </tr>\n",
       "  </thead>\n",
       "  <tbody>\n",
       "    <tr>\n",
       "      <th>0</th>\n",
       "      <td>0.000000</td>\n",
       "      <td>0.858108</td>\n",
       "      <td>0.602151</td>\n",
       "      <td>0.313953</td>\n",
       "      <td>0.011465</td>\n",
       "      <td>0.668952</td>\n",
       "      <td>0.510511</td>\n",
       "      <td>0.000000</td>\n",
       "    </tr>\n",
       "    <tr>\n",
       "      <th>1</th>\n",
       "      <td>0.571429</td>\n",
       "      <td>0.324324</td>\n",
       "      <td>0.741935</td>\n",
       "      <td>0.465116</td>\n",
       "      <td>0.028025</td>\n",
       "      <td>0.080352</td>\n",
       "      <td>0.036123</td>\n",
       "      <td>0.035714</td>\n",
       "    </tr>\n",
       "    <tr>\n",
       "      <th>2</th>\n",
       "      <td>0.500000</td>\n",
       "      <td>0.479730</td>\n",
       "      <td>0.247312</td>\n",
       "      <td>0.523256</td>\n",
       "      <td>0.026752</td>\n",
       "      <td>0.616137</td>\n",
       "      <td>0.000438</td>\n",
       "      <td>0.035714</td>\n",
       "    </tr>\n",
       "    <tr>\n",
       "      <th>3</th>\n",
       "      <td>0.642857</td>\n",
       "      <td>0.398649</td>\n",
       "      <td>0.580645</td>\n",
       "      <td>0.209302</td>\n",
       "      <td>0.369427</td>\n",
       "      <td>0.300831</td>\n",
       "      <td>0.541848</td>\n",
       "      <td>0.392857</td>\n",
       "    </tr>\n",
       "    <tr>\n",
       "      <th>4</th>\n",
       "      <td>0.071429</td>\n",
       "      <td>0.277027</td>\n",
       "      <td>0.376344</td>\n",
       "      <td>0.232558</td>\n",
       "      <td>0.026752</td>\n",
       "      <td>0.645027</td>\n",
       "      <td>0.212047</td>\n",
       "      <td>0.017857</td>\n",
       "    </tr>\n",
       "    <tr>\n",
       "      <th>...</th>\n",
       "      <td>...</td>\n",
       "      <td>...</td>\n",
       "      <td>...</td>\n",
       "      <td>...</td>\n",
       "      <td>...</td>\n",
       "      <td>...</td>\n",
       "      <td>...</td>\n",
       "      <td>...</td>\n",
       "    </tr>\n",
       "    <tr>\n",
       "      <th>14995</th>\n",
       "      <td>0.714286</td>\n",
       "      <td>0.141892</td>\n",
       "      <td>0.387097</td>\n",
       "      <td>0.453488</td>\n",
       "      <td>0.207643</td>\n",
       "      <td>0.404713</td>\n",
       "      <td>0.031608</td>\n",
       "      <td>0.357143</td>\n",
       "    </tr>\n",
       "    <tr>\n",
       "      <th>14996</th>\n",
       "      <td>0.142857</td>\n",
       "      <td>0.195946</td>\n",
       "      <td>0.451613</td>\n",
       "      <td>0.232558</td>\n",
       "      <td>0.196178</td>\n",
       "      <td>0.315380</td>\n",
       "      <td>0.352683</td>\n",
       "      <td>0.303571</td>\n",
       "    </tr>\n",
       "    <tr>\n",
       "      <th>14997</th>\n",
       "      <td>0.000000</td>\n",
       "      <td>0.331081</td>\n",
       "      <td>0.698925</td>\n",
       "      <td>0.418605</td>\n",
       "      <td>0.054777</td>\n",
       "      <td>0.012956</td>\n",
       "      <td>0.156959</td>\n",
       "      <td>0.053571</td>\n",
       "    </tr>\n",
       "    <tr>\n",
       "      <th>14998</th>\n",
       "      <td>0.000000</td>\n",
       "      <td>0.594595</td>\n",
       "      <td>0.795699</td>\n",
       "      <td>0.127907</td>\n",
       "      <td>0.187261</td>\n",
       "      <td>0.042056</td>\n",
       "      <td>0.100836</td>\n",
       "      <td>0.035714</td>\n",
       "    </tr>\n",
       "    <tr>\n",
       "      <th>14999</th>\n",
       "      <td>0.214286</td>\n",
       "      <td>0.472973</td>\n",
       "      <td>0.440860</td>\n",
       "      <td>0.465116</td>\n",
       "      <td>0.634395</td>\n",
       "      <td>0.476156</td>\n",
       "      <td>0.031175</td>\n",
       "      <td>0.232143</td>\n",
       "    </tr>\n",
       "  </tbody>\n",
       "</table>\n",
       "<p>15000 rows × 8 columns</p>\n",
       "</div>"
      ],
      "text/plain": [
       "       Pregnancies  PlasmaGlucose  DiastolicBloodPressure  TricepsThickness  \\\n",
       "0         0.000000       0.858108                0.602151          0.313953   \n",
       "1         0.571429       0.324324                0.741935          0.465116   \n",
       "2         0.500000       0.479730                0.247312          0.523256   \n",
       "3         0.642857       0.398649                0.580645          0.209302   \n",
       "4         0.071429       0.277027                0.376344          0.232558   \n",
       "...            ...            ...                     ...               ...   \n",
       "14995     0.714286       0.141892                0.387097          0.453488   \n",
       "14996     0.142857       0.195946                0.451613          0.232558   \n",
       "14997     0.000000       0.331081                0.698925          0.418605   \n",
       "14998     0.000000       0.594595                0.795699          0.127907   \n",
       "14999     0.214286       0.472973                0.440860          0.465116   \n",
       "\n",
       "       SerumInsulin       BMI  DiabetesPedigree       Age  \n",
       "0          0.011465  0.668952          0.510511  0.000000  \n",
       "1          0.028025  0.080352          0.036123  0.035714  \n",
       "2          0.026752  0.616137          0.000438  0.035714  \n",
       "3          0.369427  0.300831          0.541848  0.392857  \n",
       "4          0.026752  0.645027          0.212047  0.017857  \n",
       "...             ...       ...               ...       ...  \n",
       "14995      0.207643  0.404713          0.031608  0.357143  \n",
       "14996      0.196178  0.315380          0.352683  0.303571  \n",
       "14997      0.054777  0.012956          0.156959  0.053571  \n",
       "14998      0.187261  0.042056          0.100836  0.035714  \n",
       "14999      0.634395  0.476156          0.031175  0.232143  \n",
       "\n",
       "[15000 rows x 8 columns]"
      ]
     },
     "execution_count": 50,
     "metadata": {},
     "output_type": "execute_result"
    }
   ],
   "source": [
    "X"
   ]
  },
  {
   "cell_type": "code",
   "execution_count": 51,
   "id": "9226dce4",
   "metadata": {},
   "outputs": [],
   "source": [
    "X1 = X.drop(\"BMI\", axis=1)\n",
    "y1 = X[\"BMI\"]"
   ]
  },
  {
   "cell_type": "code",
   "execution_count": 52,
   "id": "f1d5b3fc",
   "metadata": {},
   "outputs": [],
   "source": [
    "X1_train, X1_test, y1_train, y1_test = train_test_split(X1,y1,test_size=0.3,random_state=123)"
   ]
  },
  {
   "cell_type": "code",
   "execution_count": 54,
   "id": "90a5aeef",
   "metadata": {},
   "outputs": [
    {
     "data": {
      "text/plain": [
       "5242     0.475776\n",
       "12675    0.014693\n",
       "6924     0.015235\n",
       "12596    0.370881\n",
       "12569    0.377402\n",
       "           ...   \n",
       "5218     0.631615\n",
       "12252    0.658900\n",
       "1346     0.094925\n",
       "11646    0.608408\n",
       "3582     0.042934\n",
       "Name: BMI, Length: 10500, dtype: float64"
      ]
     },
     "execution_count": 54,
     "metadata": {},
     "output_type": "execute_result"
    }
   ],
   "source": [
    "y1_train"
   ]
  },
  {
   "cell_type": "code",
   "execution_count": 55,
   "id": "dc9430df",
   "metadata": {},
   "outputs": [],
   "source": [
    "from sklearn.linear_model import LinearRegression"
   ]
  },
  {
   "cell_type": "code",
   "execution_count": 56,
   "id": "c128bf13",
   "metadata": {},
   "outputs": [],
   "source": [
    "linr = LinearRegression()"
   ]
  },
  {
   "cell_type": "code",
   "execution_count": 57,
   "id": "b73c33ef",
   "metadata": {},
   "outputs": [],
   "source": [
    "modelreg = linr.fit(X1_train, y1_train)"
   ]
  },
  {
   "cell_type": "code",
   "execution_count": 58,
   "id": "f0108989",
   "metadata": {},
   "outputs": [],
   "source": [
    "y1_pred = modelreg.predict(X1_test)"
   ]
  },
  {
   "cell_type": "code",
   "execution_count": 59,
   "id": "e78bea83",
   "metadata": {},
   "outputs": [
    {
     "data": {
      "text/plain": [
       "array([0.36446283, 0.33601014, 0.36988398, ..., 0.34492006, 0.35142412,\n",
       "       0.32915367])"
      ]
     },
     "execution_count": 59,
     "metadata": {},
     "output_type": "execute_result"
    }
   ],
   "source": [
    "y1_pred"
   ]
  },
  {
   "cell_type": "code",
   "execution_count": 60,
   "id": "79cc9208",
   "metadata": {},
   "outputs": [],
   "source": [
    "from sklearn.metrics import mean_absolute_error, mean_squared_error, r2_score"
   ]
  },
  {
   "cell_type": "code",
   "execution_count": 61,
   "id": "f9a45815",
   "metadata": {},
   "outputs": [
    {
     "data": {
      "text/plain": [
       "0.2256932477379724"
      ]
     },
     "execution_count": 61,
     "metadata": {},
     "output_type": "execute_result"
    }
   ],
   "source": [
    "mean_absolute_error(y1_test, y1_pred)"
   ]
  },
  {
   "cell_type": "code",
   "execution_count": 62,
   "id": "14a645b7",
   "metadata": {},
   "outputs": [
    {
     "data": {
      "text/plain": [
       "0.06440592697262516"
      ]
     },
     "execution_count": 62,
     "metadata": {},
     "output_type": "execute_result"
    }
   ],
   "source": [
    "mean_squared_error(y1_test, y1_pred)"
   ]
  },
  {
   "cell_type": "code",
   "execution_count": 63,
   "id": "95b2ab55",
   "metadata": {},
   "outputs": [
    {
     "data": {
      "text/plain": [
       "0.01687529917111552"
      ]
     },
     "execution_count": 63,
     "metadata": {},
     "output_type": "execute_result"
    }
   ],
   "source": [
    "r2_score(y1_test, y1_pred)"
   ]
  },
  {
   "cell_type": "code",
   "execution_count": 64,
   "id": "72860f7c",
   "metadata": {},
   "outputs": [
    {
     "data": {
      "text/html": [
       "<div>\n",
       "<style scoped>\n",
       "    .dataframe tbody tr th:only-of-type {\n",
       "        vertical-align: middle;\n",
       "    }\n",
       "\n",
       "    .dataframe tbody tr th {\n",
       "        vertical-align: top;\n",
       "    }\n",
       "\n",
       "    .dataframe thead th {\n",
       "        text-align: right;\n",
       "    }\n",
       "</style>\n",
       "<table border=\"1\" class=\"dataframe\">\n",
       "  <thead>\n",
       "    <tr style=\"text-align: right;\">\n",
       "      <th></th>\n",
       "      <th>Pregnancies</th>\n",
       "      <th>PlasmaGlucose</th>\n",
       "      <th>DiastolicBloodPressure</th>\n",
       "      <th>TricepsThickness</th>\n",
       "      <th>SerumInsulin</th>\n",
       "      <th>DiabetesPedigree</th>\n",
       "      <th>Age</th>\n",
       "    </tr>\n",
       "  </thead>\n",
       "  <tbody>\n",
       "    <tr>\n",
       "      <th>5242</th>\n",
       "      <td>0.357143</td>\n",
       "      <td>0.371622</td>\n",
       "      <td>0.440860</td>\n",
       "      <td>0.267442</td>\n",
       "      <td>0.094268</td>\n",
       "      <td>0.727108</td>\n",
       "      <td>0.303571</td>\n",
       "    </tr>\n",
       "    <tr>\n",
       "      <th>12675</th>\n",
       "      <td>0.142857</td>\n",
       "      <td>0.527027</td>\n",
       "      <td>0.860215</td>\n",
       "      <td>0.441860</td>\n",
       "      <td>0.024204</td>\n",
       "      <td>0.002856</td>\n",
       "      <td>0.053571</td>\n",
       "    </tr>\n",
       "    <tr>\n",
       "      <th>6924</th>\n",
       "      <td>0.071429</td>\n",
       "      <td>0.290541</td>\n",
       "      <td>0.279570</td>\n",
       "      <td>0.313953</td>\n",
       "      <td>0.035669</td>\n",
       "      <td>0.385402</td>\n",
       "      <td>0.017857</td>\n",
       "    </tr>\n",
       "    <tr>\n",
       "      <th>12596</th>\n",
       "      <td>0.642857</td>\n",
       "      <td>0.317568</td>\n",
       "      <td>0.215054</td>\n",
       "      <td>0.255814</td>\n",
       "      <td>0.198726</td>\n",
       "      <td>0.037186</td>\n",
       "      <td>0.446429</td>\n",
       "    </tr>\n",
       "    <tr>\n",
       "      <th>12569</th>\n",
       "      <td>0.071429</td>\n",
       "      <td>0.716216</td>\n",
       "      <td>0.397849</td>\n",
       "      <td>0.395349</td>\n",
       "      <td>0.045860</td>\n",
       "      <td>0.023832</td>\n",
       "      <td>0.017857</td>\n",
       "    </tr>\n",
       "    <tr>\n",
       "      <th>...</th>\n",
       "      <td>...</td>\n",
       "      <td>...</td>\n",
       "      <td>...</td>\n",
       "      <td>...</td>\n",
       "      <td>...</td>\n",
       "      <td>...</td>\n",
       "      <td>...</td>\n",
       "    </tr>\n",
       "    <tr>\n",
       "      <th>5218</th>\n",
       "      <td>0.071429</td>\n",
       "      <td>0.358108</td>\n",
       "      <td>0.354839</td>\n",
       "      <td>0.337209</td>\n",
       "      <td>0.017834</td>\n",
       "      <td>0.331919</td>\n",
       "      <td>0.035714</td>\n",
       "    </tr>\n",
       "    <tr>\n",
       "      <th>12252</th>\n",
       "      <td>0.000000</td>\n",
       "      <td>0.270270</td>\n",
       "      <td>0.215054</td>\n",
       "      <td>0.441860</td>\n",
       "      <td>0.030573</td>\n",
       "      <td>0.002269</td>\n",
       "      <td>0.232143</td>\n",
       "    </tr>\n",
       "    <tr>\n",
       "      <th>1346</th>\n",
       "      <td>0.071429</td>\n",
       "      <td>0.243243</td>\n",
       "      <td>0.591398</td>\n",
       "      <td>0.023256</td>\n",
       "      <td>0.042038</td>\n",
       "      <td>0.420795</td>\n",
       "      <td>0.053571</td>\n",
       "    </tr>\n",
       "    <tr>\n",
       "      <th>11646</th>\n",
       "      <td>0.000000</td>\n",
       "      <td>0.844595</td>\n",
       "      <td>0.344086</td>\n",
       "      <td>0.034884</td>\n",
       "      <td>0.029299</td>\n",
       "      <td>0.198198</td>\n",
       "      <td>0.017857</td>\n",
       "    </tr>\n",
       "    <tr>\n",
       "      <th>3582</th>\n",
       "      <td>0.500000</td>\n",
       "      <td>0.520270</td>\n",
       "      <td>0.311828</td>\n",
       "      <td>0.325581</td>\n",
       "      <td>0.379618</td>\n",
       "      <td>0.016499</td>\n",
       "      <td>0.000000</td>\n",
       "    </tr>\n",
       "  </tbody>\n",
       "</table>\n",
       "<p>10500 rows × 7 columns</p>\n",
       "</div>"
      ],
      "text/plain": [
       "       Pregnancies  PlasmaGlucose  DiastolicBloodPressure  TricepsThickness  \\\n",
       "5242      0.357143       0.371622                0.440860          0.267442   \n",
       "12675     0.142857       0.527027                0.860215          0.441860   \n",
       "6924      0.071429       0.290541                0.279570          0.313953   \n",
       "12596     0.642857       0.317568                0.215054          0.255814   \n",
       "12569     0.071429       0.716216                0.397849          0.395349   \n",
       "...            ...            ...                     ...               ...   \n",
       "5218      0.071429       0.358108                0.354839          0.337209   \n",
       "12252     0.000000       0.270270                0.215054          0.441860   \n",
       "1346      0.071429       0.243243                0.591398          0.023256   \n",
       "11646     0.000000       0.844595                0.344086          0.034884   \n",
       "3582      0.500000       0.520270                0.311828          0.325581   \n",
       "\n",
       "       SerumInsulin  DiabetesPedigree       Age  \n",
       "5242       0.094268          0.727108  0.303571  \n",
       "12675      0.024204          0.002856  0.053571  \n",
       "6924       0.035669          0.385402  0.017857  \n",
       "12596      0.198726          0.037186  0.446429  \n",
       "12569      0.045860          0.023832  0.017857  \n",
       "...             ...               ...       ...  \n",
       "5218       0.017834          0.331919  0.035714  \n",
       "12252      0.030573          0.002269  0.232143  \n",
       "1346       0.042038          0.420795  0.053571  \n",
       "11646      0.029299          0.198198  0.017857  \n",
       "3582       0.379618          0.016499  0.000000  \n",
       "\n",
       "[10500 rows x 7 columns]"
      ]
     },
     "execution_count": 64,
     "metadata": {},
     "output_type": "execute_result"
    }
   ],
   "source": [
    "X1_train"
   ]
  },
  {
   "cell_type": "code",
   "execution_count": 65,
   "id": "d721325b",
   "metadata": {},
   "outputs": [],
   "source": [
    "from sklearn.cluster import KMeans"
   ]
  },
  {
   "cell_type": "code",
   "execution_count": 67,
   "id": "2ba9be5f",
   "metadata": {},
   "outputs": [],
   "source": [
    "kmn = KMeans(n_clusters = 3)"
   ]
  },
  {
   "cell_type": "code",
   "execution_count": 68,
   "id": "588f3bef",
   "metadata": {},
   "outputs": [
    {
     "name": "stderr",
     "output_type": "stream",
     "text": [
      "/home/ubuntu/environments/hpepyspark/lib/python3.8/site-packages/sklearn/cluster/_kmeans.py:870: FutureWarning: The default value of `n_init` will change from 10 to 'auto' in 1.4. Set the value of `n_init` explicitly to suppress the warning\n",
      "  warnings.warn(\n"
     ]
    }
   ],
   "source": [
    "modelkmn = kmn.fit(X1_train)"
   ]
  },
  {
   "cell_type": "code",
   "execution_count": 69,
   "id": "7904f3cc",
   "metadata": {},
   "outputs": [],
   "source": [
    "y2_pred = modelkmn.predict(X1_test)"
   ]
  },
  {
   "cell_type": "code",
   "execution_count": 70,
   "id": "72bdb1de",
   "metadata": {},
   "outputs": [
    {
     "data": {
      "text/plain": [
       "array([[0.55267694, 0.43457928, 0.50980323, 0.25668977, 0.16583239,\n",
       "        0.14678995, 0.09584748],\n",
       "       [0.06241774, 0.41598828, 0.50151841, 0.24252757, 0.1392354 ,\n",
       "        0.13180068, 0.05775729],\n",
       "       [0.25873914, 0.46458835, 0.52733799, 0.2761532 , 0.19625462,\n",
       "        0.1732975 , 0.53018287]])"
      ]
     },
     "execution_count": 70,
     "metadata": {},
     "output_type": "execute_result"
    }
   ],
   "source": [
    "modelkmn.cluster_centers_"
   ]
  },
  {
   "cell_type": "code",
   "execution_count": 71,
   "id": "de6fbeae",
   "metadata": {},
   "outputs": [
    {
     "data": {
      "text/plain": [
       "array([2, 1, 0, ..., 1, 1, 1], dtype=int32)"
      ]
     },
     "execution_count": 71,
     "metadata": {},
     "output_type": "execute_result"
    }
   ],
   "source": [
    "y2_pred"
   ]
  },
  {
   "cell_type": "code",
   "execution_count": 73,
   "id": "9c09b5be",
   "metadata": {},
   "outputs": [],
   "source": [
    "from sklearn.metrics import silhouette_score, rand_score, adjusted_rand_score"
   ]
  },
  {
   "cell_type": "code",
   "execution_count": 74,
   "id": "d52ae3ca",
   "metadata": {},
   "outputs": [
    {
     "data": {
      "text/plain": [
       "0.2139772626658987"
      ]
     },
     "execution_count": 74,
     "metadata": {},
     "output_type": "execute_result"
    }
   ],
   "source": [
    "silhouette_score(X1_test, y2_pred)"
   ]
  },
  {
   "cell_type": "code",
   "execution_count": 75,
   "id": "71903567",
   "metadata": {},
   "outputs": [],
   "source": [
    "kmn1 = KMeans(n_clusters = 3)"
   ]
  },
  {
   "cell_type": "code",
   "execution_count": 76,
   "id": "43572d72",
   "metadata": {},
   "outputs": [
    {
     "name": "stderr",
     "output_type": "stream",
     "text": [
      "/home/ubuntu/environments/hpepyspark/lib/python3.8/site-packages/sklearn/cluster/_kmeans.py:870: FutureWarning: The default value of `n_init` will change from 10 to 'auto' in 1.4. Set the value of `n_init` explicitly to suppress the warning\n",
      "  warnings.warn(\n"
     ]
    }
   ],
   "source": [
    "modelkmn1 = kmn1.fit(X1_train)"
   ]
  },
  {
   "cell_type": "code",
   "execution_count": 77,
   "id": "738aaff4",
   "metadata": {},
   "outputs": [],
   "source": [
    "y2_pred1 = modelkmn1.predict(X1_test)"
   ]
  },
  {
   "cell_type": "code",
   "execution_count": 78,
   "id": "f91c106c",
   "metadata": {},
   "outputs": [
    {
     "data": {
      "text/plain": [
       "0.9971543305919834"
      ]
     },
     "execution_count": 78,
     "metadata": {},
     "output_type": "execute_result"
    }
   ],
   "source": [
    "rand_score (y2_pred, y2_pred1)"
   ]
  },
  {
   "cell_type": "code",
   "execution_count": 79,
   "id": "7965882a",
   "metadata": {},
   "outputs": [
    {
     "data": {
      "text/plain": [
       "0.994024687001455"
      ]
     },
     "execution_count": 79,
     "metadata": {},
     "output_type": "execute_result"
    }
   ],
   "source": [
    "adjusted_rand_score(y2_pred, y2_pred1)"
   ]
  },
  {
   "cell_type": "code",
   "execution_count": null,
   "id": "6a1000c6",
   "metadata": {},
   "outputs": [],
   "source": []
  }
 ],
 "metadata": {
  "kernelspec": {
   "display_name": "Python 3 (ipykernel)",
   "language": "python",
   "name": "python3"
  },
  "language_info": {
   "codemirror_mode": {
    "name": "ipython",
    "version": 3
   },
   "file_extension": ".py",
   "mimetype": "text/x-python",
   "name": "python",
   "nbconvert_exporter": "python",
   "pygments_lexer": "ipython3",
   "version": "3.8.10"
  }
 },
 "nbformat": 4,
 "nbformat_minor": 5
}
